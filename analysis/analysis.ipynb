{
 "cells": [
  {
   "cell_type": "markdown",
   "metadata": {},
   "source": [
    ".to_csv('../datasets/.csv')"
   ]
  },
  {
   "cell_type": "markdown",
   "metadata": {},
   "source": [
    " = pd.read_csv('../datasets/.csv')"
   ]
  },
  {
   "cell_type": "markdown",
   "metadata": {},
   "source": [
    ".drop(['Unnamed: 0'], axis = 1, inplace = True)"
   ]
  },
  {
   "cell_type": "markdown",
   "metadata": {},
   "source": [
    ".columns = ['','']"
   ]
  },
  {
   "cell_type": "markdown",
   "metadata": {},
   "source": [
    "[''] = [''].str.rstrip('%').astype('float') / 100.0"
   ]
  },
  {
   "cell_type": "code",
   "execution_count": null,
   "metadata": {},
   "outputs": [],
   "source": [
    "import pandas as pd\n",
    "import numpy as np\n",
    "import plotly.express as px\n",
    "import matplotlib.pyplot as plt"
   ]
  },
  {
   "cell_type": "code",
   "execution_count": null,
   "metadata": {},
   "outputs": [],
   "source": [
    "most_waste_food = pd.read_csv('../datasets/most_waste_food.csv')\n",
    "most_waste_food_type = pd.read_csv('../datasets/most_waste_food_type.csv')\n",
    "ghg_emmision = pd.read_csv('../datasets/ghg_emmision.csv')\n",
    "uk_food_wasted = pd.read_csv('../datasets/uk_food_wasted.csv')\n",
    "food_waste = pd.read_csv('../datasets/food_waste.csv')\n",
    "money_saved = pd.read_csv('../datasets/money_saved.csv')"
   ]
  },
  {
   "cell_type": "markdown",
   "metadata": {},
   "source": [
    "most_waste_food\n",
    "most_waste_food_type\n",
    "ghg_emmision\n",
    "uk_food_wasted\n",
    "food_waste\n",
    "money_saved"
   ]
  },
  {
   "cell_type": "code",
   "execution_count": null,
   "metadata": {},
   "outputs": [],
   "source": [
    "most_waste_food.drop(['Unnamed: 0'], axis = 1, inplace = True)\n",
    "most_waste_food_type.drop(['Unnamed: 0'], axis = 1, inplace = True)\n",
    "ghg_emmision.drop(['Unnamed: 0'], axis = 1, inplace = True)\n",
    "uk_food_wasted.drop(['Unnamed: 0'], axis = 1, inplace = True)\n",
    "food_waste.drop(['Unnamed: 0'], axis = 1, inplace = True)\n",
    "money_saved.drop(['Unnamed: 0'], axis = 1, inplace = True)"
   ]
  },
  {
   "cell_type": "code",
   "execution_count": null,
   "metadata": {},
   "outputs": [],
   "source": [
    "most_waste_food.columns = ['category','percent']\n",
    "most_waste_food['percent'] = most_waste_food['percent'].str.rstrip('%').astype('float') / 100.0\n",
    "most_waste_food"
   ]
  },
  {
   "cell_type": "code",
   "execution_count": null,
   "metadata": {},
   "outputs": [],
   "source": [
    "most_waste_food_type.columns = ['world_wide','percent']\n",
    "most_waste_food_type['percent'] = most_waste_food_type['percent'].str.rstrip('%').astype('float') / 100.0\n",
    "most_waste_food_type"
   ]
  },
  {
   "cell_type": "code",
   "execution_count": null,
   "metadata": {},
   "outputs": [],
   "source": [
    "ghg_emmision.columns = ['country','amount']\n",
    "ghg_emmision"
   ]
  },
  {
   "cell_type": "code",
   "execution_count": null,
   "metadata": {},
   "outputs": [],
   "source": [
    "uk_food_wasted.columns = ['category','type','household','hospitality_and_food_services','retail','manufacturing']\n",
    "uk_food_wasted"
   ]
  },
  {
   "cell_type": "code",
   "execution_count": null,
   "metadata": {},
   "outputs": [],
   "source": [
    "food_waste.columns = ['2007','2018','world_average','drop_percent']\n",
    "food_waste['drop_percent'] = food_waste['drop_percent'].str.rstrip('%').astype('float') / 100.0\n",
    "food_waste"
   ]
  },
  {
   "cell_type": "code",
   "execution_count": null,
   "metadata": {},
   "outputs": [],
   "source": [
    "most_waste_food.info()"
   ]
  },
  {
   "cell_type": "code",
   "execution_count": null,
   "metadata": {},
   "outputs": [],
   "source": [
    "most_waste_food_type.info()"
   ]
  },
  {
   "cell_type": "code",
   "execution_count": null,
   "metadata": {},
   "outputs": [],
   "source": [
    "ghg_emmision.info()"
   ]
  },
  {
   "cell_type": "code",
   "execution_count": null,
   "metadata": {},
   "outputs": [],
   "source": [
    "uk_food_wasted.info()"
   ]
  },
  {
   "cell_type": "code",
   "execution_count": null,
   "metadata": {},
   "outputs": [],
   "source": [
    "food_waste.info()"
   ]
  },
  {
   "cell_type": "code",
   "execution_count": null,
   "metadata": {},
   "outputs": [],
   "source": [
    "money_saved.info()"
   ]
  },
  {
   "cell_type": "code",
   "execution_count": null,
   "metadata": {},
   "outputs": [],
   "source": [
    "money_saved.columns = ['money_saved','per_month','per_year']\n",
    "money_saved['per_month']=money_saved['per_month'].str.replace('£','')\n",
    "money_saved['per_year']=money_saved['per_year'].str.replace('£','')\n",
    "money_saved"
   ]
  },
  {
   "cell_type": "code",
   "execution_count": null,
   "metadata": {},
   "outputs": [],
   "source": [
    "uk_landfill = pd.read_csv('../datasets/uk_landfill.csv')\n",
    "food_make_df = pd.read_csv('../datasets/food_make_df.csv')\n",
    "#most_waste_food_type = pd.read_csv('../datasets/most_waste_food_type.csv')\n",
    "global_food_waste = pd.read_csv('../datasets/global_food_wastage.csv')\n",
    "seafood_df=pd.read_csv('../datasets/seafood_df.csv')\n",
    "global_food_supply = pd.read_csv('../datasets/global_food_supply.csv')"
   ]
  },
  {
   "cell_type": "code",
   "execution_count": null,
   "metadata": {},
   "outputs": [],
   "source": [
    "fig = px.pie(most_waste_food,names='category',values='percent',title=\"waste foodtype\")\n",
    "#fig.write_html('../reports/most_wasted_food_type.html',auto_open=True)\n",
    "fig.show()"
   ]
  },
  {
   "cell_type": "code",
   "execution_count": null,
   "metadata": {},
   "outputs": [],
   "source": [
    "plt.figure(figsize=(10, 5))\n",
    "fig = px.bar(most_waste_food, x='category', y='percent',\n",
    "             color='percent', log_y=True, title=\"Percent of food\")\n",
    "fig.show()"
   ]
  },
  {
   "cell_type": "code",
   "execution_count": null,
   "metadata": {},
   "outputs": [],
   "source": [
    "fig = px.pie(most_waste_food_type,names='world_wide',values='percent',title=\"waste foodtype\")\n",
    "#fig.write_html('../reports/most_wasted_food_type.html',auto_open=True)\n",
    "fig.show()"
   ]
  },
  {
   "cell_type": "code",
   "execution_count": null,
   "metadata": {},
   "outputs": [],
   "source": [
    "plt.figure(figsize=(10, 5))\n",
    "fig = px.bar(most_waste_food_type, x='world_wide', y='percent',\n",
    "             color='percent', log_y=True, title=\"Percent of food world wide\")\n",
    "fig.show()"
   ]
  },
  {
   "cell_type": "code",
   "execution_count": null,
   "metadata": {},
   "outputs": [],
   "source": [
    "food_make_df.columns =['type','original','merged_categories','animal_feed','biofule_percent','total_percent_redirected','adjusted_totals','display_totals']"
   ]
  },
  {
   "cell_type": "code",
   "execution_count": null,
   "metadata": {},
   "outputs": [],
   "source": [
    "food_make_df.columns"
   ]
  },
  {
   "cell_type": "code",
   "execution_count": null,
   "metadata": {},
   "outputs": [],
   "source": [
    "#food_make_df.drop(['merged categories','animal feed','biofuels %', 'total % redirected','adjusted totals','display totals'], axis = 1, inplace = True)"
   ]
  },
  {
   "cell_type": "code",
   "execution_count": null,
   "metadata": {},
   "outputs": [],
   "source": [
    "#food_make_df.rename(columns={'Unnamed: 0':'Types of food','original':'Quantity',},inplace=True)"
   ]
  },
  {
   "cell_type": "code",
   "execution_count": null,
   "metadata": {},
   "outputs": [],
   "source": [
    "food_make_df"
   ]
  },
  {
   "cell_type": "markdown",
   "metadata": {},
   "source": [
    "plt.figure(figsize=(10, 5))\n",
    "fig = px.bar(food_make_df, x='', y='',\n",
    "             color='', log_y=True, title=\"\")\n",
    "fig.show()"
   ]
  },
  {
   "cell_type": "code",
   "execution_count": null,
   "metadata": {},
   "outputs": [],
   "source": [
    "plt.figure(figsize=(10, 5))\n",
    "fig = px.bar(food_make_df, x='type', y='original',\n",
    "             color='original', log_y=True, title=\"original\")\n",
    "fig.show()"
   ]
  },
  {
   "cell_type": "code",
   "execution_count": null,
   "metadata": {},
   "outputs": [],
   "source": [
    "plt.figure(figsize=(10, 5))\n",
    "fig = px.bar(food_make_df, x='type', y='merged_categories',\n",
    "             color='merged_categories', log_y=True, title=\"merged_categories\")\n",
    "fig.show()"
   ]
  },
  {
   "cell_type": "code",
   "execution_count": null,
   "metadata": {},
   "outputs": [],
   "source": [
    "plt.figure(figsize=(10, 5))\n",
    "fig = px.bar(food_make_df, x='type', y='animal_feed',\n",
    "             color='animal_feed', log_y=True, title=\"animal_feed\")\n",
    "fig.show()"
   ]
  },
  {
   "cell_type": "code",
   "execution_count": null,
   "metadata": {},
   "outputs": [],
   "source": [
    "plt.figure(figsize=(10, 5))\n",
    "fig = px.bar(food_make_df, x='type', y='biofule_percent',\n",
    "             color='biofule_percent', log_y=True, title=\"biofule_percent\")\n",
    "fig.show()"
   ]
  },
  {
   "cell_type": "code",
   "execution_count": null,
   "metadata": {},
   "outputs": [],
   "source": [
    "plt.figure(figsize=(10, 5))\n",
    "fig = px.bar(food_make_df, x='type', y='adjusted_totals',\n",
    "             color='adjusted_totals', log_y=True, title=\"adjusted_totals\")\n",
    "fig.show()"
   ]
  },
  {
   "cell_type": "code",
   "execution_count": null,
   "metadata": {},
   "outputs": [],
   "source": [
    "plt.figure(figsize=(10, 5))\n",
    "fig = px.bar(food_make_df, x='type', y='display_totals',\n",
    "             color='display_totals', log_y=True, title=\"display_totals\")\n",
    "fig.show()"
   ]
  },
  {
   "cell_type": "code",
   "execution_count": null,
   "metadata": {},
   "outputs": [],
   "source": [
    "plt.figure(figsize=(10, 5))\n",
    "fig = px.scatter(food_make_df, x='adjusted_totals', y='display_totals',\n",
    "             color='display_totals', log_y=True, title=\"\")\n",
    "fig.show()"
   ]
  },
  {
   "cell_type": "code",
   "execution_count": null,
   "metadata": {},
   "outputs": [],
   "source": [
    "uk_landfill\n"
   ]
  },
  {
   "cell_type": "code",
   "execution_count": null,
   "metadata": {},
   "outputs": [],
   "source": [
    "uk_landfill.drop(['Unnamed: 0','manufacturing','retail'],axis=1,inplace=True)"
   ]
  },
  {
   "cell_type": "code",
   "execution_count": null,
   "metadata": {},
   "outputs": [],
   "source": [
    "uk_landfill"
   ]
  },
  {
   "cell_type": "code",
   "execution_count": null,
   "metadata": {},
   "outputs": [],
   "source": [
    "uk_landfill['household'].nunique()"
   ]
  },
  {
   "cell_type": "code",
   "execution_count": null,
   "metadata": {},
   "outputs": [],
   "source": [
    "fig = px.bar(uk_landfill,x='category',y='household',title=\"Food category\",color='category')\n",
    "fig.show()"
   ]
  },
  {
   "cell_type": "code",
   "execution_count": null,
   "metadata": {},
   "outputs": [],
   "source": [
    "fig = px.bar(uk_landfill,x='category',y='hospitality & food service',title=\"Food Type\",color='category')\n",
    "fig.show()"
   ]
  },
  {
   "cell_type": "code",
   "execution_count": null,
   "metadata": {},
   "outputs": [],
   "source": [
    "global_food_supply"
   ]
  },
  {
   "cell_type": "code",
   "execution_count": null,
   "metadata": {},
   "outputs": [],
   "source": [
    "global_food_supply.drop(['Unnamed: 0', 'How much do we make', 'Unnamed: 1', 'Unnamed: 2',\n",
    "       'Unnamed: 3', 'Unnamed: 4', 'Unnamed: 5', 'Unnamed: 6', 'Unnamed: 7',\n",
    "       'Unnamed: 8', 'Unnamed: 9', 'Unnamed: 10', 'who gets it','Unnamed: 21', 'Unnamed: 22', 'Unnamed: 23', 'Unnamed: 24',\n",
    "       'Unnamed: 25', 'Unnamed: 26', 'Unnamed: 27', 'who gets it/per capita',\n",
    "       'Unnamed: 29', 'Unnamed: 30', 'Unnamed: 31', 'Unnamed: 32',\n",
    "       'Unnamed: 33', 'total', 'Unnamed: 35', 'Unnamed: 36', 'Unnamed: 37',\n",
    "       'Unnamed: 38', 'How much should people get /cap', 'Unnamed: 40',\n",
    "       'by food', 'total.1', 'Unnamed: 43', 'Unnamed: 44', 'Unnamed: 45',\n",
    "       'Unnamed: 46', 'Unnamed: 47', 'Unnamed: 48', 'Unnamed: 49',\n",
    "       'How much is needed (xpop)', 'Unnamed: 51', 'Unnamed: 52',\n",
    "       'Unnamed: 53', 'Unnamed: 54', 'plus waste', 'Unnamed: 56',\n",
    "       'Unnamed: 57', 'Unnamed: 58', 'How much is needed', 'Unnamed: 60',\n",
    "       'Unnamed: 61', 'Unnamed: 62', 'Unnamed: 63', 'Unnamed: 64',\n",
    "       'overshoot/undershoot', 'Unnamed: 66', 'Unnamed: 67', 'Unnamed: 68',\n",
    "       'production from column 1', 'Unnamed: 70', 'Unnamed: 71',\n",
    "       'Unnamed: 72'],axis=1,inplace=True)"
   ]
  },
  {
   "cell_type": "code",
   "execution_count": null,
   "metadata": {},
   "outputs": [],
   "source": [
    "global_food_supply.drop(['Unnamed: 16','who gets it total'],axis=1,inplace=True)"
   ]
  },
  {
   "cell_type": "code",
   "execution_count": null,
   "metadata": {},
   "outputs": [],
   "source": [
    "global_food_supply.rename({'Unnamed: 12':'food',\n",
    "                          'Unnamed: 13':'consumption',\n",
    "                          'Unnamed: 14':'checksum',\n",
    "                          'Unnamed: 15':'difference',\n",
    "                          'Unnamed: 17':'old numbers',\n",
    "                          'Unnamed: 18':'total adjusted supply',\n",
    "                          'Unnamed: 19':'difference',\n",
    "                          },axis=1,inplace=True)"
   ]
  },
  {
   "cell_type": "code",
   "execution_count": null,
   "metadata": {},
   "outputs": [],
   "source": [
    "global_food_supply"
   ]
  },
  {
   "cell_type": "code",
   "execution_count": null,
   "metadata": {},
   "outputs": [],
   "source": [
    "global_food_supply=global_food_supply.iloc[2:87]"
   ]
  },
  {
   "cell_type": "code",
   "execution_count": null,
   "metadata": {},
   "outputs": [],
   "source": [
    "global_food_supply"
   ]
  },
  {
   "cell_type": "code",
   "execution_count": null,
   "metadata": {},
   "outputs": [],
   "source": [
    "fig = px.bar(global_food_supply,x='food',y='consumption',title='Food Consumption')\n",
    "fig.show()"
   ]
  },
  {
   "cell_type": "code",
   "execution_count": null,
   "metadata": {},
   "outputs": [],
   "source": [
    "fig = px.bar(global_food_supply,x='food',y='checksum',title='Food checksum')\n",
    "fig.show()\n"
   ]
  },
  {
   "cell_type": "code",
   "execution_count": null,
   "metadata": {},
   "outputs": [],
   "source": [
    "seafood_df"
   ]
  },
  {
   "cell_type": "code",
   "execution_count": null,
   "metadata": {},
   "outputs": [],
   "source": [
    "seafood_df.drop(['Unnamed: 0','Unnamed: 1'],axis=1,inplace=True)"
   ]
  },
  {
   "cell_type": "code",
   "execution_count": null,
   "metadata": {},
   "outputs": [],
   "source": [
    "seafood_df.rename({'Unnamed: 2':'Quantity',\n",
    "                    'FISH & SEAFOOD':'Country'},axis=1,inplace=True)"
   ]
  },
  {
   "cell_type": "code",
   "execution_count": null,
   "metadata": {},
   "outputs": [],
   "source": [
    "seafood_df=seafood_df.iloc[0:216]"
   ]
  },
  {
   "cell_type": "code",
   "execution_count": null,
   "metadata": {},
   "outputs": [],
   "source": [
    "seafood_df"
   ]
  },
  {
   "cell_type": "code",
   "execution_count": null,
   "metadata": {},
   "outputs": [],
   "source": [
    "fig = px.bar(seafood_df,x='Country',y='Quantity',title='Seafood Production in Different countries',color='Country')\n",
    "fig.show()"
   ]
  },
  {
   "cell_type": "code",
   "execution_count": null,
   "metadata": {},
   "outputs": [],
   "source": [
    "seafood_df.info()"
   ]
  },
  {
   "cell_type": "code",
   "execution_count": null,
   "metadata": {},
   "outputs": [],
   "source": []
  },
  {
   "cell_type": "code",
   "execution_count": null,
   "metadata": {},
   "outputs": [],
   "source": [
    "current_dietary_intake = pd.read_csv('../datasets/current_dietary_intake.csv')\n",
    "current_dietary_intake.drop(['Unnamed: 0'], axis = 1, inplace = True)\n",
    "current_dietary_intake"
   ]
  },
  {
   "cell_type": "code",
   "execution_count": null,
   "metadata": {},
   "outputs": [],
   "source": [
    "current_dietary_intake['Red Meat'] = current_dietary_intake['Red Meat'].str.rstrip('%').astype('float') / 100.0\n",
    "current_dietary_intake['S Veg'] = current_dietary_intake['S Veg'].str.rstrip('%').astype('float') / 100.0\n",
    "current_dietary_intake['Eggs'] = current_dietary_intake['Eggs'].str.rstrip('%').astype('float') / 100.0\n",
    "current_dietary_intake['Poultry'] = current_dietary_intake['Poultry'].str.rstrip('%').astype('float') / 100.0\n",
    "current_dietary_intake['Dairy'] = current_dietary_intake['Dairy'].str.rstrip('%').astype('float') / 100.0\n",
    "current_dietary_intake['Fish'] = current_dietary_intake['Fish'].str.rstrip('%').astype('float') / 100.0\n",
    "current_dietary_intake['Veg'] = current_dietary_intake['Veg'].str.rstrip('%').astype('float') / 100.0\n",
    "current_dietary_intake['Fruit'] = current_dietary_intake['Fruit'].str.rstrip('%').astype('float') / 100.0\n",
    "current_dietary_intake['Legumes'] = current_dietary_intake['Legumes'].str.rstrip('%').astype('float') / 100.0\n",
    "current_dietary_intake['Whole grains'] = current_dietary_intake['Whole grains'].str.rstrip('%').astype('float') / 100.0\n",
    "current_dietary_intake['Nuts'] = current_dietary_intake['Nuts'].str.rstrip('%').astype('float') / 100.0"
   ]
  },
  {
   "cell_type": "code",
   "execution_count": null,
   "metadata": {},
   "outputs": [],
   "source": [
    "current_dietary_intake"
   ]
  },
  {
   "cell_type": "code",
   "execution_count": null,
   "metadata": {},
   "outputs": [],
   "source": [
    "current_dietary_intake_global = pd.read_csv('../datasets/current_dietary_intake_global.csv')\n",
    "current_dietary_intake_global.drop(['Unnamed: 0'], axis = 1, inplace = True)\n",
    "current_dietary_intake_global"
   ]
  },
  {
   "cell_type": "code",
   "execution_count": null,
   "metadata": {},
   "outputs": [],
   "source": [
    "current_dietary_intake_global['Global'] = current_dietary_intake_global['Global'].str.rstrip('%').astype('float') / 100.0\n",
    "current_dietary_intake_global"
   ]
  },
  {
   "cell_type": "markdown",
   "metadata": {},
   "source": [
    "plt.figure(figsize=(10, 5))\n",
    "fig = px.bar(current_dietary_intake, x='', y='',\n",
    "             color='', log_y=True, title=\"\")\n",
    "fig.show()"
   ]
  },
  {
   "cell_type": "markdown",
   "metadata": {},
   "source": [
    "plt.figure(figsize=(10, 5))\n",
    "fig = px.pie(current_dietary_intake,names='Region',values='',title=\"\")\n",
    "fig.show()"
   ]
  },
  {
   "cell_type": "code",
   "execution_count": null,
   "metadata": {},
   "outputs": [],
   "source": [
    "plt.figure(figsize=(10, 5))\n",
    "fig = px.bar(current_dietary_intake, x='Region', y='Red Meat',\n",
    "             color='Red Meat', log_y=True, title=\"Red Meat\")\n",
    "fig.show()"
   ]
  },
  {
   "cell_type": "code",
   "execution_count": null,
   "metadata": {},
   "outputs": [],
   "source": [
    "plt.figure(figsize=(10, 5))\n",
    "fig = px.bar(current_dietary_intake, x='Region', y='S Veg',\n",
    "             color='S Veg', log_y=True, title=\"S Veg\")\n",
    "fig.show()"
   ]
  },
  {
   "cell_type": "code",
   "execution_count": null,
   "metadata": {},
   "outputs": [],
   "source": [
    "plt.figure(figsize=(10, 5))\n",
    "fig = px.bar(current_dietary_intake, x='Region', y='Eggs',\n",
    "             color='Eggs', log_y=True, title=\"Eggs\")\n",
    "fig.show()"
   ]
  },
  {
   "cell_type": "code",
   "execution_count": null,
   "metadata": {},
   "outputs": [],
   "source": [
    "plt.figure(figsize=(10, 5))\n",
    "fig = px.bar(current_dietary_intake, x='Region', y='Poultry',\n",
    "             color='Poultry', log_y=True, title=\"Poultry\")\n",
    "fig.show()"
   ]
  },
  {
   "cell_type": "code",
   "execution_count": null,
   "metadata": {},
   "outputs": [],
   "source": [
    "plt.figure(figsize=(10, 5))\n",
    "fig = px.bar(current_dietary_intake, x='Region', y='Dairy',\n",
    "             color='Dairy', log_y=True, title=\"Dairy\")\n",
    "fig.show()"
   ]
  },
  {
   "cell_type": "code",
   "execution_count": null,
   "metadata": {},
   "outputs": [],
   "source": [
    "plt.figure(figsize=(10, 5))\n",
    "fig = px.bar(current_dietary_intake, x='Region', y='Fish',\n",
    "             color='Fish', log_y=True, title=\"Fish\")\n",
    "fig.show()"
   ]
  },
  {
   "cell_type": "code",
   "execution_count": null,
   "metadata": {},
   "outputs": [],
   "source": [
    "plt.figure(figsize=(10, 5))\n",
    "fig = px.bar(current_dietary_intake, x='Region', y='Veg',\n",
    "             color='Veg', log_y=True, title=\"Veg\")\n",
    "fig.show()"
   ]
  },
  {
   "cell_type": "code",
   "execution_count": null,
   "metadata": {},
   "outputs": [],
   "source": [
    "plt.figure(figsize=(10, 5))\n",
    "fig = px.bar(current_dietary_intake, x='Region', y='Fruit',\n",
    "             color='Fruit', log_y=True, title=\"Fruit\")\n",
    "fig.show()"
   ]
  },
  {
   "cell_type": "code",
   "execution_count": null,
   "metadata": {},
   "outputs": [],
   "source": [
    "plt.figure(figsize=(10, 5))\n",
    "fig = px.bar(current_dietary_intake, x='Region', y='Legumes',\n",
    "             color='Legumes', log_y=True, title=\"Legumes\")\n",
    "fig.show()"
   ]
  },
  {
   "cell_type": "code",
   "execution_count": null,
   "metadata": {},
   "outputs": [],
   "source": [
    "plt.figure(figsize=(10, 5))\n",
    "fig = px.bar(current_dietary_intake, x='Region', y='Whole grains',\n",
    "             color='Whole grains', log_y=True, title=\"Whole grains\")\n",
    "fig.show()"
   ]
  },
  {
   "cell_type": "code",
   "execution_count": null,
   "metadata": {},
   "outputs": [],
   "source": [
    "plt.figure(figsize=(10, 5))\n",
    "fig = px.bar(current_dietary_intake, x='Region', y='Nuts',\n",
    "             color='Nuts', log_y=True, title=\"Nuts\")\n",
    "fig.show()"
   ]
  },
  {
   "cell_type": "code",
   "execution_count": null,
   "metadata": {},
   "outputs": [],
   "source": [
    "current_dietary_intake_global.info()"
   ]
  },
  {
   "cell_type": "code",
   "execution_count": null,
   "metadata": {},
   "outputs": [],
   "source": [
    "plt.figure(figsize=(10, 5))\n",
    "fig = px.bar(current_dietary_intake_global, x='Types of food', y='Global',\n",
    "             color='Global', log_y=True, title=\"Global\")\n",
    "fig.show()"
   ]
  },
  {
   "cell_type": "code",
   "execution_count": null,
   "metadata": {},
   "outputs": [],
   "source": [
    "plt.figure(figsize=(10, 5))\n",
    "fig = px.pie(current_dietary_intake_global,names='Types of food',values='Global',title=\"Global\")\n",
    "fig.show()"
   ]
  },
  {
   "cell_type": "code",
   "execution_count": null,
   "metadata": {},
   "outputs": [],
   "source": [
    "pc_absolute = pd.read_csv('../datasets/pc_absolute.csv')\n",
    "pc_by_population = pd.read_csv('../datasets/pc_by_population.csv')\n",
    "percent_of_supply = pd.read_csv('../datasets/percent_of_supply.csv')\n",
    "nuts = pd.read_csv('../datasets/nuts.csv')\n",
    "whole_grain = pd.read_csv('../datasets/whole_grain.csv')\n",
    "starchy_veg = pd.read_csv('../datasets/starchy_veg.csv')\n",
    "milk = pd.read_csv('../datasets/milk.csv')\n",
    "egg = pd.read_csv('../datasets/egg.csv')\n",
    "red_meat = pd.read_csv('../datasets/red_meat.csv')\n",
    "poultry = pd.read_csv('../datasets/poultry.csv')\n",
    "food_waste_by_country = pd.read_csv('../datasets/food_waste_by_country.csv')"
   ]
  },
  {
   "cell_type": "code",
   "execution_count": null,
   "metadata": {},
   "outputs": [],
   "source": [
    "pc_absolute.drop(['Unnamed: 0'], axis = 1, inplace = True)\n",
    "pc_by_population.drop(['Unnamed: 0'], axis = 1, inplace = True)\n",
    "percent_of_supply.drop(['Unnamed: 0'], axis = 1, inplace = True)\n",
    "nuts.drop(['Unnamed: 0'], axis = 1, inplace = True)\n",
    "whole_grain.drop(['Unnamed: 0'], axis = 1, inplace = True)\n",
    "starchy_veg.drop(['Unnamed: 0'], axis = 1, inplace = True)\n",
    "milk.drop(['Unnamed: 0'], axis = 1, inplace = True)\n",
    "egg.drop(['Unnamed: 0'], axis = 1, inplace = True)\n",
    "red_meat.drop(['Unnamed: 0'], axis = 1, inplace = True)\n",
    "poultry.drop(['Unnamed: 0'], axis = 1, inplace = True)\n",
    "food_waste_by_country.drop(['Unnamed: 0'], axis = 1, inplace = True)"
   ]
  },
  {
   "cell_type": "code",
   "execution_count": null,
   "metadata": {},
   "outputs": [],
   "source": [
    "pc_absolute"
   ]
  },
  {
   "cell_type": "code",
   "execution_count": null,
   "metadata": {},
   "outputs": [],
   "source": [
    "pc_by_population"
   ]
  },
  {
   "cell_type": "code",
   "execution_count": null,
   "metadata": {},
   "outputs": [],
   "source": [
    "percent_of_supply['Supply'] = percent_of_supply['Supply'].str.rstrip('%').astype('float') / 100.0\n",
    "percent_of_supply"
   ]
  },
  {
   "cell_type": "code",
   "execution_count": null,
   "metadata": {},
   "outputs": [],
   "source": [
    "percent_of_supply"
   ]
  },
  {
   "cell_type": "code",
   "execution_count": null,
   "metadata": {},
   "outputs": [],
   "source": [
    "nuts"
   ]
  },
  {
   "cell_type": "code",
   "execution_count": null,
   "metadata": {},
   "outputs": [],
   "source": [
    "whole_grain"
   ]
  },
  {
   "cell_type": "code",
   "execution_count": null,
   "metadata": {},
   "outputs": [],
   "source": [
    "starchy_veg"
   ]
  },
  {
   "cell_type": "code",
   "execution_count": null,
   "metadata": {},
   "outputs": [],
   "source": [
    "milk['consumption'] = milk['consumption'].str.replace(' kg','')\n",
    "milk"
   ]
  },
  {
   "cell_type": "code",
   "execution_count": null,
   "metadata": {},
   "outputs": [],
   "source": [
    "egg.drop(['Unnamed: 1'], axis = 1, inplace = True)\n",
    "egg['Eggs'] = egg['Eggs'].str.replace(' kg','')\n",
    "egg"
   ]
  },
  {
   "cell_type": "code",
   "execution_count": null,
   "metadata": {},
   "outputs": [],
   "source": [
    "egg"
   ]
  },
  {
   "cell_type": "code",
   "execution_count": null,
   "metadata": {},
   "outputs": [],
   "source": [
    "red_meat"
   ]
  },
  {
   "cell_type": "code",
   "execution_count": null,
   "metadata": {},
   "outputs": [],
   "source": [
    "poultry"
   ]
  },
  {
   "cell_type": "code",
   "execution_count": null,
   "metadata": {},
   "outputs": [],
   "source": [
    "food_waste_by_country"
   ]
  },
  {
   "cell_type": "code",
   "execution_count": null,
   "metadata": {},
   "outputs": [],
   "source": [
    "plt.figure(figsize=(10, 5))\n",
    "fig = px.bar(pc_absolute, x='Type of food', y='production',\n",
    "             color='production', log_y=True, title=\"production\")\n",
    "fig.show()"
   ]
  },
  {
   "cell_type": "code",
   "execution_count": null,
   "metadata": {},
   "outputs": [],
   "source": [
    "plt.figure(figsize=(10, 5))\n",
    "fig = px.bar(pc_by_population, x='Type of food', y='by population',\n",
    "             color='by population', log_y=True, title=\"by population\")\n",
    "fig.show()"
   ]
  },
  {
   "cell_type": "code",
   "execution_count": null,
   "metadata": {},
   "outputs": [],
   "source": [
    "plt.figure(figsize=(10, 5))\n",
    "fig = px.bar(percent_of_supply, x='Region', y='Production',\n",
    "             color='Production', log_y=True, title=\"Production\")\n",
    "fig.show()"
   ]
  },
  {
   "cell_type": "code",
   "execution_count": null,
   "metadata": {},
   "outputs": [],
   "source": [
    "plt.figure(figsize=(10, 5))\n",
    "fig = px.bar(percent_of_supply, x='Region', y='Supply',\n",
    "             color='Supply', log_y=True, title=\"Supply\")\n",
    "fig.show()"
   ]
  },
  {
   "cell_type": "code",
   "execution_count": null,
   "metadata": {},
   "outputs": [],
   "source": [
    "plt.figure(figsize=(10, 5))\n",
    "fig = px.bar(nuts, x='country', y='consump',\n",
    "             color='consump', log_y=True, title=\"consumption\")\n",
    "fig.show()"
   ]
  },
  {
   "cell_type": "code",
   "execution_count": null,
   "metadata": {},
   "outputs": [],
   "source": [
    "plt.figure(figsize=(10, 5))\n",
    "fig = px.bar(whole_grain, x='Country', y='WHOLE GRAINS',\n",
    "             color='WHOLE GRAINS', log_y=True, title=\"WHOLE GRAIN\")\n",
    "fig.show()"
   ]
  },
  {
   "cell_type": "code",
   "execution_count": null,
   "metadata": {},
   "outputs": [],
   "source": [
    "plt.figure(figsize=(10, 5))\n",
    "fig = px.bar(whole_grain, x='Country', y='WHEAT',\n",
    "             color='WHEAT', log_y=True, title=\"WHEAT\")\n",
    "fig.show()"
   ]
  },
  {
   "cell_type": "code",
   "execution_count": null,
   "metadata": {},
   "outputs": [],
   "source": [
    "plt.figure(figsize=(10, 5))\n",
    "fig = px.bar(whole_grain, x='Country', y='RICE',\n",
    "             color='RICE', log_y=True, title=\"RICE\")\n",
    "fig.show()"
   ]
  },
  {
   "cell_type": "code",
   "execution_count": null,
   "metadata": {},
   "outputs": [],
   "source": [
    "plt.figure(figsize=(10, 5))\n",
    "fig = px.bar(starchy_veg, x='Country', y='STARCHY VEG',\n",
    "             color='STARCHY VEG', log_y=True, title=\"STARCHY VEG\")\n",
    "fig.show()"
   ]
  },
  {
   "cell_type": "code",
   "execution_count": null,
   "metadata": {},
   "outputs": [],
   "source": [
    "plt.figure(figsize=(10, 5))\n",
    "fig = px.bar(milk, x='MILK', y='consumption',\n",
    "             color='consumption', log_y=True, title=\"consumption\")\n",
    "fig.show()"
   ]
  },
  {
   "cell_type": "code",
   "execution_count": null,
   "metadata": {},
   "outputs": [],
   "source": [
    "plt.figure(figsize=(10, 5))\n",
    "fig = px.bar(egg, x='Country', y='Eggs',\n",
    "             color='Eggs', log_y=True, title=\"Eggs\")\n",
    "fig.show()"
   ]
  },
  {
   "cell_type": "code",
   "execution_count": null,
   "metadata": {},
   "outputs": [],
   "source": [
    "plt.figure(figsize=(10, 5))\n",
    "fig = px.bar(red_meat, x='country', y='red meat',\n",
    "             color='red meat', log_y=True, title=\"red meat\")\n",
    "fig.show()"
   ]
  },
  {
   "cell_type": "code",
   "execution_count": null,
   "metadata": {},
   "outputs": [],
   "source": [
    "plt.figure(figsize=(10, 5))\n",
    "fig = px.bar(poultry, x='country', y='poultry',\n",
    "             color='poultry', log_y=True, title=\"poultry\")\n",
    "fig.show()"
   ]
  },
  {
   "cell_type": "code",
   "execution_count": null,
   "metadata": {},
   "outputs": [],
   "source": [
    "plt.figure(figsize=(10, 5))\n",
    "fig = px.bar(food_waste_by_country, x='Country', y='combined figures',\n",
    "             color='combined figures', log_y=True, title=\"combined figures\")\n",
    "fig.show()"
   ]
  },
  {
   "cell_type": "code",
   "execution_count": null,
   "metadata": {},
   "outputs": [],
   "source": [
    "plt.figure(figsize=(10, 5))\n",
    "fig = px.bar(food_waste_by_country, x='Country', y='Household estimate',\n",
    "             color='Household estimate', log_y=True, title=\"Household estimate\")\n",
    "fig.show()"
   ]
  },
  {
   "cell_type": "code",
   "execution_count": null,
   "metadata": {},
   "outputs": [],
   "source": [
    "plt.figure(figsize=(10, 5))\n",
    "fig = px.bar(food_waste_by_country, x='Country', y='Household estimate.1',\n",
    "             color='Household estimate.1', log_y=True, title=\"Household estimate.1\")\n",
    "fig.show()"
   ]
  },
  {
   "cell_type": "code",
   "execution_count": null,
   "metadata": {},
   "outputs": [],
   "source": [
    "plt.figure(figsize=(10, 5))\n",
    "fig = px.bar(food_waste_by_country, x='Country', y='Retail estimate',\n",
    "             color='Retail estimate', log_y=True, title=\"Retail estimate\")\n",
    "fig.show()"
   ]
  },
  {
   "cell_type": "code",
   "execution_count": null,
   "metadata": {},
   "outputs": [],
   "source": [
    "plt.figure(figsize=(10, 5))\n",
    "fig = px.bar(food_waste_by_country, x='Country', y='Retail estimate.1',\n",
    "             color='Retail estimate.1', log_y=True, title=\"Retail estimate.1\")\n",
    "fig.show()"
   ]
  },
  {
   "cell_type": "code",
   "execution_count": null,
   "metadata": {},
   "outputs": [],
   "source": [
    "plt.figure(figsize=(10, 5))\n",
    "fig = px.bar(food_waste_by_country, x='Country', y='Food service estimate',\n",
    "             color='Food service estimate', log_y=True, title=\"Food service estimate\")\n",
    "fig.show()"
   ]
  },
  {
   "cell_type": "code",
   "execution_count": null,
   "metadata": {},
   "outputs": [],
   "source": [
    "plt.figure(figsize=(10, 5))\n",
    "fig = px.bar(food_waste_by_country, x='Country', y='Food service estimate.1',\n",
    "             color='Food service estimate.1', log_y=True, title=\"Food service estimate.1\")\n",
    "fig.show()"
   ]
  }
 ],
 "metadata": {
  "interpreter": {
   "hash": "bfc59d88a5d160d6f0eb8850e2f301c9836b987e4667016cb33dfd69dc4fed04"
  },
  "kernelspec": {
   "display_name": "Python 3.9.10 ('base')",
   "language": "python",
   "name": "python3"
  },
  "language_info": {
   "codemirror_mode": {
    "name": "ipython",
    "version": 3
   },
   "file_extension": ".py",
   "mimetype": "text/x-python",
   "name": "python",
   "nbconvert_exporter": "python",
   "pygments_lexer": "ipython3",
   "version": "3.9.10"
  },
  "orig_nbformat": 4
 },
 "nbformat": 4,
 "nbformat_minor": 2
}
